{
 "cells": [
  {
   "cell_type": "code",
   "execution_count": 23,
   "id": "7d9d3efc",
   "metadata": {},
   "outputs": [],
   "source": [
    "# Import Splinter and BeautifulSoup\n",
    "from splinter import Browser\n",
    "from bs4 import BeautifulSoup as soup\n",
    "from webdriver_manager.chrome import ChromeDriverManager\n",
    "import pandas as pd"
   ]
  },
  {
   "cell_type": "code",
   "execution_count": 2,
   "id": "dce68645",
   "metadata": {},
   "outputs": [
    {
     "name": "stderr",
     "output_type": "stream",
     "text": [
      "\n",
      "\n",
      "====== WebDriver manager ======\n",
      "Current google-chrome version is 91.0.4472\n",
      "Get LATEST driver version for 91.0.4472\n",
      "Get LATEST driver version for 91.0.4472\n",
      "Trying to download new driver from https://chromedriver.storage.googleapis.com/91.0.4472.101/chromedriver_win32.zip\n",
      "Driver has been saved in cache [C:\\Users\\pampe\\.wdm\\drivers\\chromedriver\\win32\\91.0.4472.101]\n"
     ]
    }
   ],
   "source": [
    "executable_path = {'executable_path': ChromeDriverManager().install()}\n",
    "browser = Browser('chrome', **executable_path, headless=False)"
   ]
  },
  {
   "cell_type": "code",
   "execution_count": 3,
   "id": "8c373f58",
   "metadata": {},
   "outputs": [
    {
     "data": {
      "text/plain": [
       "True"
      ]
     },
     "execution_count": 3,
     "metadata": {},
     "output_type": "execute_result"
    }
   ],
   "source": [
    "# Visit the mars nasa news site\n",
    "url = 'https://redplanetscience.com'\n",
    "browser.visit(url)\n",
    "# Optional delay for loading the page\n",
    "browser.is_element_present_by_css('div.list_text', wait_time=1)"
   ]
  },
  {
   "cell_type": "code",
   "execution_count": 4,
   "id": "9d1164e1",
   "metadata": {},
   "outputs": [],
   "source": [
    "#set up html parser\n",
    "html = browser.html\n",
    "news_soup = soup(html, 'html.parser')\n",
    "slide_elem = news_soup.select_one('div.list_text')"
   ]
  },
  {
   "cell_type": "code",
   "execution_count": 5,
   "id": "2b5bb54d",
   "metadata": {},
   "outputs": [
    {
     "data": {
      "text/plain": [
       "<div class=\"content_title\">NASA's New Mars Rover Is Ready for Space Lasers</div>"
      ]
     },
     "execution_count": 5,
     "metadata": {},
     "output_type": "execute_result"
    }
   ],
   "source": [
    "slide_elem.find('div', class_='content_title')"
   ]
  },
  {
   "cell_type": "code",
   "execution_count": 6,
   "id": "bcc76187",
   "metadata": {},
   "outputs": [
    {
     "data": {
      "text/plain": [
       "\"NASA's New Mars Rover Is Ready for Space Lasers\""
      ]
     },
     "execution_count": 6,
     "metadata": {},
     "output_type": "execute_result"
    }
   ],
   "source": [
    "# Use the parent element to find the first `a` tag and save it as `news_title`\n",
    "news_title = slide_elem.find('div', class_='content_title').get_text()\n",
    "news_title"
   ]
  },
  {
   "cell_type": "code",
   "execution_count": 7,
   "id": "7cd89ae9",
   "metadata": {},
   "outputs": [
    {
     "data": {
      "text/plain": [
       "'Perseverance is one of a few Mars spacecraft carrying laser retroreflectors. The devices could provide new science and safer Mars landings in the future.'"
      ]
     },
     "execution_count": 7,
     "metadata": {},
     "output_type": "execute_result"
    }
   ],
   "source": [
    "# Use the parent element to find the paragraph text\n",
    "news_p = slide_elem.find('div', class_='article_teaser_body').get_text()\n",
    "news_p"
   ]
  },
  {
   "cell_type": "code",
   "execution_count": 18,
   "id": "31cc2dff",
   "metadata": {},
   "outputs": [],
   "source": [
    "# Visit URL\n",
    "url = 'https://spaceimages-mars.com'\n",
    "browser.visit(url)"
   ]
  },
  {
   "cell_type": "code",
   "execution_count": 19,
   "id": "fcea6aa1",
   "metadata": {},
   "outputs": [],
   "source": [
    "# Find and click the full image button\n",
    "full_image_elem = browser.find_by_tag('button')[1]\n",
    "full_image_elem.click()"
   ]
  },
  {
   "cell_type": "code",
   "execution_count": 15,
   "id": "ae96f5c3",
   "metadata": {},
   "outputs": [],
   "source": [
    "# Parse the resulting html with soup\n",
    "html = browser.html\n",
    "img_soup = soup(html, 'html.parser')"
   ]
  },
  {
   "cell_type": "code",
   "execution_count": 20,
   "id": "0b7eb9ca",
   "metadata": {},
   "outputs": [
    {
     "data": {
      "text/plain": [
       "'<html class=\"fancybox-margin fancybox-lock\"><head>\\n      <meta charset=\"utf-8\">\\n      <meta name=\"viewport\" content=\"width=device-width, initial-scale=1\">\\n      <link rel=\"stylesheet\" href=\"https://maxcdn.bootstrapcdn.com/bootstrap/4.0.0/css/bootstrap.min.css\">\\n      <!-- <link rel=\"stylesheet\" type=\"text/css\" href=\"css/font.css\"> -->\\n      <link rel=\"stylesheet\" type=\"text/css\" href=\"css/app.css\">\\n      <link rel=\"stylesheet\" type=\"text/css\" href=\"https://stackpath.bootstrapcdn.com/font-awesome/4.7.0/css/font-awesome.min.css\">\\n      <title>Space Image</title>\\n   <style type=\"text/css\">.fancybox-margin{margin-right:17px;}</style></head>\\n   <body>\\n      <div class=\"header\">\\n         <nav class=\"navbar navbar-expand-lg \">\\n            <a class=\"navbar-brand\" href=\"#\"><img id=\"logo\" src=\"image/nasa.png\"><span class=\"logo\">Jet Propulsion Laboratory</span>\\n            <span class=\"logo1\">California Institute of Technology</span></a>\\n            <button class=\"navbar-toggler\" type=\"button\" data-toggle=\"collapse\" data-target=\"#navbarNav\" aria-controls=\"navbarNav\" aria-expanded=\"false\" aria-label=\"Toggle navigation\">\\n            <span class=\"navbar-toggler-icon\"></span>\\n            </button>\\n            <div class=\"collapse navbar-collapse justify-content-end\" id=\"navbarNav\">\\n               <ul class=\"navbar-nav\">\\n                  <li class=\"nav-item active\">\\n                     <a class=\"nav-link\" href=\"#\"><i class=\"fa fa-bars\" aria-hidden=\"true\"></i> &nbsp;&nbsp;MENU &nbsp;&nbsp;<i class=\"fa fa-search\" aria-hidden=\"true\"></i></a>\\n                  </li>\\n               </ul>\\n            </div>\\n         </nav>\\n         <div class=\"floating_text_area\">\\n            <h2 class=\"brand_title\">FEATURED IMAGE</h2>\\n            <h1 class=\"media_feature_title\">Dusty Space Cloud</h1>\\n            <br>\\n           <a target=\"_blank\" class=\"showimg fancybox-thumbs\" href=\"image/featured/mars1.jpg\"> <button class=\"btn btn-outline-light\"> FULL IMAGE</button></a>\\n         </div>\\n      <img class=\"headerimage fade-in\" src=\"image/featured/mars1.jpg\"></div>\\n      <div class=\"search sticky\">\\n         <div class=\"col-md-12\">\\n            <div class=\"row\">\\n               <div class=\"col-md-6\">\\n                  <input type=\"text\" name=\"Search\" placeholder=\"Search\">\\n               </div>\\n               <div class=\"col-md-6\">\\n                  <select class=\"form-select\" id=\"options\" aria-label=\"Default select example\">\\n                     <option selected=\"\" onchange=\"0\">Mars</option>\\n                     <!-- <option data-filter=\"sun\" class=\"button\">Mars</option> -->\\n                     <option data-filter=\"Sun\" class=\"button\">Sun</option>\\n                     <option data-filter=\"earth\" class=\"button\">Earth</option>\\n                     <option data-filter=\"ida\" class=\"button\">Ida</option>\\n                     <option data-filter=\"jupiter\" class=\"button\">Jupiter</option>\\n                     <option data-filter=\"venus\" class=\"button\">Venus</option>\\n                  </select>\\n               </div>\\n            </div>\\n         </div>\\n      </div>\\n      <div class=\"container mt-5\">\\n         <div class=\"col-md-12\">\\n            <div class=\"row\">\\n               <div class=\"col-md-6\">\\n                  <h1>Images</h1>\\n               </div>\\n               <div class=\"col-md-6\" id=\"icon\">\\n                  <div class=\"icon2\"></div>\\n                  <div class=\"icon1\"></div>\\n               </div>\\n            </div>\\n         </div>\\n         <!-- first div -->\\n         <div id=\"filter\" class=\"div1\">\\n            <div class=\"thmbgroup\"><a class=\"fancybox-thumbs\" data-fancybox-group=\"thumb\" href=\"image/mars/Icaria Fossae7.jpg\"><div class=\"thmb\"><img class=\"thumbimg\" src=\"image/mars/Icaria Fossae7.jpg\" alt=\"\"><p class=\"thumbcontent\">January 1, 2020<br>Icaria Fossae7</p></div></a><a class=\"fancybox-thumbs\" data-fancybox-group=\"thumb\" href=\"image/mars/Proctor Crater Dunes 7.jpg\"><div class=\"thmb\"><img class=\"thumbimg\" src=\"image/mars/Proctor Crater Dunes 7.jpg\" alt=\"\"><p class=\"thumbcontent\">December 31, 2020<br>Proctor Crater Dunes</p></div></a><a class=\"fancybox-thumbs\" data-fancybox-group=\"thumb\" href=\"image/mars/Icaria Fossae7.jpg\"><div class=\"thmb\"><img class=\"thumbimg\" src=\"image/mars/Icaria Fossae7.jpg\" alt=\"\"><p class=\"thumbcontent\">December 31, 2020<br>Icaria Fossae</p></div></a><a class=\"fancybox-thumbs\" data-fancybox-group=\"thumb\" href=\"image/mars/Proctor Crater Dunes 7.jpg\"><div class=\"thmb\"><img class=\"thumbimg\" src=\"image/mars/Proctor Crater Dunes 7.jpg\" alt=\"\"><p class=\"thumbcontent\">December 29, 2020<br>Proctor Crater Dunes</p></div></a><a class=\"fancybox-thumbs\" data-fancybox-group=\"thumb\" href=\"image/mars/Proctor Crater Dunes 7.jpg\"><div class=\"thmb\"><img class=\"thumbimg\" src=\"image/mars/Proctor Crater Dunes 7.jpg\" alt=\"\"><p class=\"thumbcontent\">December 28, 2020<br>roctor Crater Dunes</p></div></a><a class=\"fancybox-thumbs\" data-fancybox-group=\"thumb\" href=\"image/mars/Icaria Fossae7.jpg\"><div class=\"thmb\"><img class=\"thumbimg\" src=\"image/mars/Icaria Fossae7.jpg\" alt=\"\"><p class=\"thumbcontent\">December 22, 2020<br>Icaria Fossae</p></div></a><a class=\"fancybox-thumbs\" data-fancybox-group=\"thumb\" href=\"image/mars/Icaria Fossae.jpg\"><div class=\"thmb\"><img class=\"thumbimg\" src=\"image/mars/Icaria Fossae.jpg\" alt=\"\"><p class=\"thumbcontent\">December 21, 2020<br>Icaria Fossae</p></div></a><a class=\"fancybox-thumbs\" data-fancybox-group=\"thumb\" href=\"image/mars/Ariadnes Colles4.jpg\"><div class=\"thmb\"><img class=\"thumbimg\" src=\"image/mars/Ariadnes Colles4.jpg\" alt=\"\"><p class=\"thumbcontent\">December 18, 2020<br>Ariadnes Colles</p></div></a><a class=\"fancybox-thumbs\" data-fancybox-group=\"thumb\" href=\"image/mars/Niger Vallis.jpg\"><div class=\"thmb\"><img class=\"thumbimg\" src=\"image/mars/Niger Vallis.jpg\" alt=\"\"><p class=\"thumbcontent\">December 17, 2020<br>Niger Vallis</p></div></a><a class=\"fancybox-thumbs\" data-fancybox-group=\"thumb\" href=\"image/mars/Proctor Crater Dunes.jpg\"><div class=\"thmb\"><img class=\"thumbimg\" src=\"image/mars/Proctor Crater Dunes.jpg\" alt=\"\"><p class=\"thumbcontent\">December 16, 2020<br>Proctor Crater Dunes</p></div></a><a class=\"fancybox-thumbs\" data-fancybox-group=\"thumb\" href=\"image/mars/Niger Vallis.jpg\"><div class=\"thmb\"><img class=\"thumbimg\" src=\"image/mars/Niger Vallis.jpg\" alt=\"\"><p class=\"thumbcontent\">December 15, 2020<br>Niger Vallis</p></div></a><a class=\"fancybox-thumbs\" data-fancybox-group=\"thumb\" href=\"image/mars/Daedalia Planum.jpg\"><div class=\"thmb\"><img class=\"thumbimg\" src=\"image/mars/Daedalia Planum.jpg\" alt=\"\"><p class=\"thumbcontent\">December 11, 2020<br>Daedalia Planum</p></div></a><a class=\"fancybox-thumbs\" data-fancybox-group=\"thumb\" href=\"image/mars/Sirenum Fossae.jpg\"><div class=\"thmb\"><img class=\"thumbimg\" src=\"image/mars/Sirenum Fossae.jpg\" alt=\"\"><p class=\"thumbcontent\">November,11, 2020<br>Sirenum Fossae</p></div></a><a class=\"fancybox-thumbs\" data-fancybox-group=\"thumb\" href=\"image/mars/Ariadnes Colles4.jpg\"><div class=\"thmb\"><img class=\"thumbimg\" src=\"image/mars/Ariadnes Colles4.jpg\" alt=\"\"><p class=\"thumbcontent\">November,13, 2020<br>Ariadnes Colles</p></div></a><a class=\"fancybox-thumbs\" data-fancybox-group=\"thumb\" href=\"image/mars/South Polar Cap.jpg\"><div class=\"thmb\"><img class=\"thumbimg\" src=\"image/mars/South Polar Cap.jpg\" alt=\"\"><p class=\"thumbcontent\">November,14, 2020<br>South Polar Cap</p></div></a><a class=\"fancybox-thumbs\" data-fancybox-group=\"thumb\" href=\"image/mars/Daedalia Planum.jpg\"><div class=\"thmb\"><img class=\"thumbimg\" src=\"image/mars/Daedalia Planum.jpg\" alt=\"\"><p class=\"thumbcontent\">November,17, 2020<br>Daedalia Planum</p></div></a><a class=\"fancybox-thumbs\" data-fancybox-group=\"thumb\" href=\"image/mars/Ariadnes Colles3.jpg\"><div class=\"thmb\"><img class=\"thumbimg\" src=\"image/mars/Ariadnes Colles3.jpg\" alt=\"\"><p class=\"thumbcontent\">November,11, 2020<br>Ariadnes Colles</p></div></a><a class=\"fancybox-thumbs\" data-fancybox-group=\"thumb\" href=\"image/mars/Atlantis Chaos.jpg\"><div class=\"thmb\"><img class=\"thumbimg\" src=\"image/mars/Atlantis Chaos.jpg\" alt=\"\"><p class=\"thumbcontent\">November,09, 2020<br>Atlantis Chaos</p></div></a><a class=\"fancybox-thumbs\" data-fancybox-group=\"thumb\" href=\"image/mars/Daedalia Planum.jpg\"><div class=\"thmb\"><img class=\"thumbimg\" src=\"image/mars/Daedalia Planum.jpg\" alt=\"\"><p class=\"thumbcontent\">January 1, 2020<br>Daedalia Planum</p></div></a><a class=\"fancybox-thumbs\" data-fancybox-group=\"thumb\" href=\"image/mars/Icaria Fossae.jpg\"><div class=\"thmb\"><img class=\"thumbimg\" src=\"image/mars/Icaria Fossae.jpg\" alt=\"\"><p class=\"thumbcontent\">January 1, 2020<br>Icaria Fossae</p></div></a><a class=\"fancybox-thumbs\" data-fancybox-group=\"thumb\" href=\"image/mars/Niger Vallis.jpg\"><div class=\"thmb\"><img class=\"thumbimg\" src=\"image/mars/Niger Vallis.jpg\" alt=\"\"><p class=\"thumbcontent\">January 1, 2020<br>Niger Vallis</p></div></a><a class=\"fancybox-thumbs\" data-fancybox-group=\"thumb\" href=\"image/mars/Proctor Crater Dunes.jpg\"><div class=\"thmb\"><img class=\"thumbimg\" src=\"image/mars/Proctor Crater Dunes.jpg\" alt=\"\"><p class=\"thumbcontent\">January 1, 2020<br>Proctor Crater Dunes</p></div></a><a class=\"fancybox-thumbs\" data-fancybox-group=\"thumb\" href=\"image/mars/Reull Vallis.jpg\"><div class=\"thmb\"><img class=\"thumbimg\" src=\"image/mars/Reull Vallis.jpg\" alt=\"\"><p class=\"thumbcontent\">January 1, 2020<br>Reull Vallis</p></div></a><a class=\"fancybox-thumbs\" data-fancybox-group=\"thumb\" href=\"image/mars/Ariadnes Colles3.jpg\"><div class=\"thmb\"><img class=\"thumbimg\" src=\"image/mars/Ariadnes Colles3.jpg\" alt=\"\"><p class=\"thumbcontent\">January 1, 2020<br>Ariadnes Colles</p></div></a><a class=\"fancybox-thumbs\" data-fancybox-group=\"thumb\" href=\"image/mars/Sirenum Fossae.jpg\"><div class=\"thmb\"><img class=\"thumbimg\" src=\"image/mars/Sirenum Fossae.jpg\" alt=\"\"><p class=\"thumbcontent\">January 1, 2020<br>Sirenum Fossae</p></div></a><a class=\"fancybox-thumbs\" data-fancybox-group=\"thumb\" href=\"image/mars/South Polar Cap.jpg\"><div class=\"thmb\"><img class=\"thumbimg\" src=\"image/mars/South Polar Cap.jpg\" alt=\"\"><p class=\"thumbcontent\">January 1, 2020<br>South Polar Cap</p></div></a><a class=\"fancybox-thumbs\" data-fancybox-group=\"thumb\" href=\"image/mars/Niger Vallis.jpg\"><div class=\"thmb\"><img class=\"thumbimg\" src=\"image/mars/Niger Vallis.jpg\" alt=\"\"><p class=\"thumbcontent\">January 1, 2020<br>Niger Vallis</p></div></a><a class=\"fancybox-thumbs\" data-fancybox-group=\"thumb\" href=\"image/mars/Daedalia Planum.jpg\"><div class=\"thmb\"><img class=\"thumbimg\" src=\"image/mars/Daedalia Planum.jpg\" alt=\"\"><p class=\"thumbcontent\">January 1, 2020<br>Daedalia Planum</p></div></a><a class=\"fancybox-thumbs\" data-fancybox-group=\"thumb\" href=\"image/mars/Icaria Fossae.jpg\"><div class=\"thmb\"><img class=\"thumbimg\" src=\"image/mars/Icaria Fossae.jpg\" alt=\"\"><p class=\"thumbcontent\">January 1, 2020<br>Icaria Fossae</p></div></a><a class=\"fancybox-thumbs\" data-fancybox-group=\"thumb\" href=\"image/mars/Ariadnes Colles4.jpg\"><div class=\"thmb\"><img class=\"thumbimg\" src=\"image/mars/Ariadnes Colles4.jpg\" alt=\"\"><p class=\"thumbcontent\">January 1, 2020<br>Ariadnes Colles</p></div></a><a class=\"fancybox-thumbs\" data-fancybox-group=\"thumb\" href=\"image/mars/South Polar Cap.jpg\"><div class=\"thmb\"><img class=\"thumbimg\" src=\"image/mars/South Polar Cap.jpg\" alt=\"\"><p class=\"thumbcontent\">January 1, 2020<br>South Polar Cap</p></div></a><a class=\"fancybox-thumbs\" data-fancybox-group=\"thumb\" href=\"image/mars/Daedalia Planum.jpg\"><div class=\"thmb\"><img class=\"thumbimg\" src=\"image/mars/Daedalia Planum.jpg\" alt=\"\"><p class=\"thumbcontent\">January 1, 2020<br>Daedalia Planum</p></div></a></div>\\n         </div>\\n         <!-- first div ends -->\\n         <!-- second div starts -->\\n         <div id=\"column\" class=\"col-md-12  grid-margin\">\\n            <ul class=\"post-list\">\\n               <li class=\"post-heading\"></li>\\n            </ul>\\n         </div>\\n         <!-- second div starts -->\\n      </div>\\n      <div class=\"first imgcontainer mt-3\">\\n         <div class=\"col-md-12\">\\n            <div class=\"row\">\\n               <div class=\"col-md-3\">\\n                  <img id=\"pic\" src=\"\">\\n               </div>\\n            </div>\\n         </div>\\n      </div>\\n      <!-- end -->\\n      <div class=\"module_gallery container\">\\n         <div class=\"col-md-12\">\\n            <div class=\"row\">\\n               <div class=\"col-md-6\">\\n                  <div class=\"card\">\\n                     <img class=\"card-img-top\" src=\"https://www.jpl.nasa.gov/assets/images/content/tmp/images/jpl_photojournal(3x1).jpg\" alt=\"Card image cap\">\\n                     <div class=\"card-body\">\\n                        <h5 class=\"card-title\">JPL Photojournal</h5>\\n                        <p class=\"card-text\">Access to the full library of publicly released images from various Solar System exploration programs</p>\\n                     </div>\\n                  </div>\\n               </div>\\n               <div class=\"col-md-6\">\\n                  <div class=\"card\">\\n                     <img class=\"card-img-top\" src=\"https://www.jpl.nasa.gov/assets/images/content/tmp/images/nasa_images(3x1).jpg\" alt=\"Card image cap\">\\n                     <div class=\"card-body\">\\n                        <h5 class=\"card-title\">Great images in NASA</h5>\\n                        <p class=\"card-text\">A selection of the best-known images from a half-century of exploration and discovery</p>\\n                     </div>\\n                  </div>\\n               </div>\\n            </div>\\n         </div>\\n      </div>\\n      <div class=\"multi_teaser\">\\n         <div class=\"container\">\\n            <h1>You Might Also Like</h1>\\n            <div class=\"col-md-12 mt-5\">\\n               <div class=\"row\">\\n                  <div class=\"col-md-4\">\\n                     <div class=\"card\">\\n                        <img class=\"card-img-top\" src=\"https://imagecache.jpl.nasa.gov/images/640x350/C1-PIA24304---CatScanMars-16-640x350.gif\" alt=\"Card image cap\">\\n                        <div class=\"card-body\">\\n                           <p class=\"card-text\">Access to the full library of publicly released images from various Solar System exploration programs</p>\\n                        </div>\\n                     </div>\\n                  </div>\\n                  <div class=\"col-md-4\">\\n                     <div class=\"card\">\\n                        <img class=\"card-img-top\" src=\"https://imagecache.jpl.nasa.gov/images/640x350/PIA23491-16-640x350.jpg\" alt=\"Card image cap\">\\n                        <div class=\"card-body\">\\n                           <p class=\"card-text\">Access to the full library of publicly released images from various Solar System exploration programs</p>\\n                        </div>\\n                     </div>\\n                  </div>\\n                  <div class=\"col-md-4\">\\n                     <div class=\"card\">\\n                        <img class=\"card-img-top\" src=\"https://imagecache.jpl.nasa.gov/images/640x350/C1-PIA23180-16-640x350.gif\" alt=\"Card image cap\">\\n                        <div class=\"card-body\">\\n                           <p class=\"card-text\">Access to the full library of publicly released images from various Solar System exploration programs</p>\\n                        </div>\\n                     </div>\\n                  </div>\\n               </div>\\n            </div>\\n         </div>\\n      </div>\\n      <div class=\"footer \">\\n         <div class=\"container\">\\n            <div class=\"col-md-12\">\\n               <div class=\"row\">\\n                  <div class=\"col-md-3\">\\n                     <h4>About JPL</h4>\\n                     <ul>\\n                        <li>About JPL</li>\\n                        <li>JPL Vision</li>\\n                        <li>Executive Council</li>\\n                        <li>History</li>\\n                     </ul>\\n                  </div>\\n                  <div class=\"col-md-3\">\\n                     <h4>Education</h4>\\n                     <ul>\\n                        <li>Intern</li>\\n                        <li>Learn</li>\\n                        <li>Teach</li>\\n                        <li>News</li>\\n                     </ul>\\n                  </div>\\n                  <div class=\"col-md-3\">\\n                     <h4>Our Sites</h4>\\n                     <ul>\\n                        <li>Asteroid Watch</li>\\n                        <li>Basics of Spaceflight</li>\\n                        <li>Cassini - Mission to Saturn</li>\\n                        <li>Climate Kids</li>\\n                     </ul>\\n                  </div>\\n                  <div class=\"col-md-3\">\\n                     <h4>Galleries</h4>\\n                     <ul>\\n                        <li>JPL Space Images</li>\\n                        <li>Videos</li>\\n                        <li>Infographics</li>\\n                        <li>Photojournal</li>\\n                     </ul>\\n                  </div>\\n               </div>\\n            </div>\\n         </div>\\n      </div>\\n<!--<div class=\"showFullimage\">\\n\\t<button class=\"btn btn-outline-light hideimage\" onclick=hideimage()> Close</button>\\n\\t<img class=\"fullimage fade-in\" src=\"\">\\n</div>-->\\n      <!-- <script src=\"js/jquery.easeScroll.js\"></script>  -->\\n      <script src=\"js/jquery-3.5.1.min.js\"></script>\\n      <!-- <script src=\"js/jquery-3.2.1.slim.min.js\"></script> -->\\n      <script src=\"js/demo.js\"></script>\\n      <!-- <script src=\"js/app.js\"></script> -->\\n      <script src=\"https://cdnjs.cloudflare.com/ajax/libs/popper.js/1.12.9/umd/popper.min.js\"></script>\\n      <script src=\"https://maxcdn.bootstrapcdn.com/bootstrap/4.0.0/js/bootstrap.min.js\"></script>\\n      <script type=\"text/javascript\" src=\"js/fancyBox/jquery.fancybox.pack.js?v=2.1.5\"></script>\\n      <link rel=\"stylesheet\" type=\"text/css\" href=\"js/fancyBox/jquery.fancybox.css?v=2.1.5\" media=\"screen\">\\n      <link rel=\"stylesheet\" type=\"text/css\" href=\"js/fancyBox/helpers/jquery.fancybox-thumbs.css?v=1.0.7\">\\n      <script type=\"text/javascript\" src=\"js/fancyBox/helpers/jquery.fancybox-thumbs.js?v=1.0.7\"></script>\\n   \\n<div class=\"fancybox-overlay fancybox-overlay-fixed\" style=\"width: auto; height: auto; display: block;\"><div class=\"fancybox-wrap fancybox-desktop fancybox-type-image fancybox-opened\" tabindex=\"-1\" style=\"width: 404px; height: auto; position: absolute; top: 340px; left: 20px; opacity: 1; overflow: visible;\"><div class=\"fancybox-skin\" style=\"padding: 15px; width: auto; height: auto;\"><div class=\"fancybox-outer\"><div class=\"fancybox-inner\" style=\"overflow: visible; width: 374px; height: 204px;\"><img class=\"fancybox-image\" src=\"image/featured/mars1.jpg\" alt=\"\"></div></div><a title=\"Close\" class=\"fancybox-item fancybox-close\" href=\"javascript:;\"></a></div></div></div></body></html>'"
      ]
     },
     "execution_count": 20,
     "metadata": {},
     "output_type": "execute_result"
    }
   ],
   "source": [
    "html\n",
    "\n"
   ]
  },
  {
   "cell_type": "code",
   "execution_count": 21,
   "id": "78e2bd4f",
   "metadata": {},
   "outputs": [
    {
     "data": {
      "text/plain": [
       "'image/featured/mars1.jpg'"
      ]
     },
     "execution_count": 21,
     "metadata": {},
     "output_type": "execute_result"
    }
   ],
   "source": [
    "# Find the relative image url\n",
    "img_url_rel = img_soup.find('img', class_='fancybox-image').get('src')\n",
    "img_url_rel"
   ]
  },
  {
   "cell_type": "code",
   "execution_count": 22,
   "id": "298502b1",
   "metadata": {},
   "outputs": [
    {
     "data": {
      "text/plain": [
       "'https://spaceimages-mars.com/image/featured/mars1.jpg'"
      ]
     },
     "execution_count": 22,
     "metadata": {},
     "output_type": "execute_result"
    }
   ],
   "source": [
    "# Use the base URL to create an absolute URL\n",
    "img_url = f'https://spaceimages-mars.com/{img_url_rel}'\n",
    "img_url"
   ]
  },
  {
   "cell_type": "code",
   "execution_count": 24,
   "id": "2f321eb4",
   "metadata": {},
   "outputs": [
    {
     "data": {
      "text/html": [
       "<div>\n",
       "<style scoped>\n",
       "    .dataframe tbody tr th:only-of-type {\n",
       "        vertical-align: middle;\n",
       "    }\n",
       "\n",
       "    .dataframe tbody tr th {\n",
       "        vertical-align: top;\n",
       "    }\n",
       "\n",
       "    .dataframe thead th {\n",
       "        text-align: right;\n",
       "    }\n",
       "</style>\n",
       "<table border=\"1\" class=\"dataframe\">\n",
       "  <thead>\n",
       "    <tr style=\"text-align: right;\">\n",
       "      <th></th>\n",
       "      <th>Mars</th>\n",
       "      <th>Earth</th>\n",
       "    </tr>\n",
       "    <tr>\n",
       "      <th>description</th>\n",
       "      <th></th>\n",
       "      <th></th>\n",
       "    </tr>\n",
       "  </thead>\n",
       "  <tbody>\n",
       "    <tr>\n",
       "      <th>Mars - Earth Comparison</th>\n",
       "      <td>Mars</td>\n",
       "      <td>Earth</td>\n",
       "    </tr>\n",
       "    <tr>\n",
       "      <th>Diameter:</th>\n",
       "      <td>6,779 km</td>\n",
       "      <td>12,742 km</td>\n",
       "    </tr>\n",
       "    <tr>\n",
       "      <th>Mass:</th>\n",
       "      <td>6.39 × 10^23 kg</td>\n",
       "      <td>5.97 × 10^24 kg</td>\n",
       "    </tr>\n",
       "    <tr>\n",
       "      <th>Moons:</th>\n",
       "      <td>2</td>\n",
       "      <td>1</td>\n",
       "    </tr>\n",
       "    <tr>\n",
       "      <th>Distance from Sun:</th>\n",
       "      <td>227,943,824 km</td>\n",
       "      <td>149,598,262 km</td>\n",
       "    </tr>\n",
       "    <tr>\n",
       "      <th>Length of Year:</th>\n",
       "      <td>687 Earth days</td>\n",
       "      <td>365.24 days</td>\n",
       "    </tr>\n",
       "    <tr>\n",
       "      <th>Temperature:</th>\n",
       "      <td>-87 to -5 °C</td>\n",
       "      <td>-88 to 58°C</td>\n",
       "    </tr>\n",
       "  </tbody>\n",
       "</table>\n",
       "</div>"
      ],
      "text/plain": [
       "                                    Mars            Earth\n",
       "description                                              \n",
       "Mars - Earth Comparison             Mars            Earth\n",
       "Diameter:                       6,779 km        12,742 km\n",
       "Mass:                    6.39 × 10^23 kg  5.97 × 10^24 kg\n",
       "Moons:                                 2                1\n",
       "Distance from Sun:        227,943,824 km   149,598,262 km\n",
       "Length of Year:           687 Earth days      365.24 days\n",
       "Temperature:                -87 to -5 °C      -88 to 58°C"
      ]
     },
     "execution_count": 24,
     "metadata": {},
     "output_type": "execute_result"
    }
   ],
   "source": [
    "df = pd.read_html('https://galaxyfacts-mars.com')[0]\n",
    "df.columns=['description', 'Mars', 'Earth']\n",
    "df.set_index('description', inplace=True)\n",
    "df"
   ]
  },
  {
   "cell_type": "code",
   "execution_count": 25,
   "id": "cf223958",
   "metadata": {},
   "outputs": [
    {
     "data": {
      "text/plain": [
       "'<table border=\"1\" class=\"dataframe\">\\n  <thead>\\n    <tr style=\"text-align: right;\">\\n      <th></th>\\n      <th>Mars</th>\\n      <th>Earth</th>\\n    </tr>\\n    <tr>\\n      <th>description</th>\\n      <th></th>\\n      <th></th>\\n    </tr>\\n  </thead>\\n  <tbody>\\n    <tr>\\n      <th>Mars - Earth Comparison</th>\\n      <td>Mars</td>\\n      <td>Earth</td>\\n    </tr>\\n    <tr>\\n      <th>Diameter:</th>\\n      <td>6,779 km</td>\\n      <td>12,742 km</td>\\n    </tr>\\n    <tr>\\n      <th>Mass:</th>\\n      <td>6.39 × 10^23 kg</td>\\n      <td>5.97 × 10^24 kg</td>\\n    </tr>\\n    <tr>\\n      <th>Moons:</th>\\n      <td>2</td>\\n      <td>1</td>\\n    </tr>\\n    <tr>\\n      <th>Distance from Sun:</th>\\n      <td>227,943,824 km</td>\\n      <td>149,598,262 km</td>\\n    </tr>\\n    <tr>\\n      <th>Length of Year:</th>\\n      <td>687 Earth days</td>\\n      <td>365.24 days</td>\\n    </tr>\\n    <tr>\\n      <th>Temperature:</th>\\n      <td>-87 to -5 °C</td>\\n      <td>-88 to 58°C</td>\\n    </tr>\\n  </tbody>\\n</table>'"
      ]
     },
     "execution_count": 25,
     "metadata": {},
     "output_type": "execute_result"
    }
   ],
   "source": [
    "df.to_html()"
   ]
  },
  {
   "cell_type": "code",
   "execution_count": 26,
   "id": "7f7e8f7d",
   "metadata": {},
   "outputs": [],
   "source": [
    "browser.quit()"
   ]
  },
  {
   "cell_type": "code",
   "execution_count": null,
   "id": "8c2ec553",
   "metadata": {},
   "outputs": [],
   "source": []
  }
 ],
 "metadata": {
  "kernelspec": {
   "display_name": "Python 3",
   "language": "python",
   "name": "python3"
  },
  "language_info": {
   "codemirror_mode": {
    "name": "ipython",
    "version": 3
   },
   "file_extension": ".py",
   "mimetype": "text/x-python",
   "name": "python",
   "nbconvert_exporter": "python",
   "pygments_lexer": "ipython3",
   "version": "3.7.10"
  }
 },
 "nbformat": 4,
 "nbformat_minor": 5
}
